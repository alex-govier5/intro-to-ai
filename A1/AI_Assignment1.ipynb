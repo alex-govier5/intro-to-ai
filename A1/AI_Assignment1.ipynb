{
  "cells": [
    {
      "cell_type": "markdown",
      "metadata": {},
      "source": [
        "# CSI 4106 Introduction to Artificial Intelligence \n",
        "## Assignment 1: Data Preparation\n",
        "\n",
        "## Report Title: Data Preparation and Feature Engineering for Machine Learning Classification\n",
        "\n",
        "### Identification\n",
        "\n",
        "Name: Alex Govier <br/>\n",
        "Student Number: 300174954"
      ]
    },
    {
      "cell_type": "markdown",
      "metadata": {},
      "source": [
        "### 1. Dataset Selection"
      ]
    },
    {
      "cell_type": "markdown",
      "metadata": {},
      "source": [
        "#### Import Necessary Libraries"
      ]
    },
    {
      "cell_type": "code",
      "execution_count": 18,
      "metadata": {},
      "outputs": [],
      "source": [
        "import pandas as pd"
      ]
    },
    {
      "cell_type": "markdown",
      "metadata": {},
      "source": [
        "#### Read Datasets\n",
        "\n",
        "Here I will read all the datasets and store them in their own respective variables so they can be used later separately."
      ]
    },
    {
      "cell_type": "code",
      "execution_count": 19,
      "metadata": {},
      "outputs": [],
      "source": [
        "car_url = \"https://github.com/alex-govier5/intro-to-ai/raw/master/A1/car_dataset.csv\"\n",
        "car_dataset = pd.read_csv(car_url)\n",
        "\n",
        "credit_scores_url = \"https://github.com/alex-govier5/intro-to-ai/raw/master/A1/credit_scores_dataset.csv\"\n",
        "credit_scores_dataset = pd.read_csv(credit_scores_url, low_memory=False) # needed low_memory option to suppress warning about mixed dtypes \n",
        "\n",
        "dermatology_url = \"https://github.com/alex-govier5/intro-to-ai/raw/master/A1/dermatology_dataset.csv\"\n",
        "dermatology_dataset = pd.read_csv(dermatology_url)\n",
        "\n",
        "glass_url = \"https://github.com/alex-govier5/intro-to-ai/raw/master/A1/glass_dataset.csv\"\n",
        "glass_dataset = pd.read_csv(glass_url)\n",
        "\n",
        "maternal_health_url = \"https://github.com/alex-govier5/intro-to-ai/raw/master/A1/maternal_health_dataset.csv\"\n",
        "maternal_health_dataset = pd.read_csv(maternal_health_url)\n",
        "\n",
        "sixteen_p_url = \"https://github.com/alex-govier5/intro-to-ai/raw/master/A1/sixteen_p_dataset.csv\"\n",
        "sixteen_p_dataset = pd.read_csv(sixteen_p_url, encoding='ISO-8859-1') # needed special encoding, the default of utf-8 wasn't working\n",
        "\n",
        "wine_qt_url = \"https://github.com/alex-govier5/intro-to-ai/raw/master/A1/wine_qt_dataset.csv\"\n",
        "wine_qt_dataset = pd.read_csv(wine_qt_url)\n"
      ]
    },
    {
      "cell_type": "markdown",
      "metadata": {},
      "source": [
        "### 2. Exploratory Analysis"
      ]
    },
    {
      "cell_type": "markdown",
      "metadata": {},
      "source": [
        "#### 1. Analysis of Missing Values\n",
        "\n",
        "Here I will examine the datasets to identify and assess missing values in various attributes."
      ]
    },
    {
      "cell_type": "markdown",
      "metadata": {},
      "source": [
        "##### 1.1 Finding datasets and attributes with missing values"
      ]
    },
    {
      "cell_type": "code",
      "execution_count": 20,
      "metadata": {},
      "outputs": [],
      "source": [
        "# Your code goes here"
      ]
    },
    {
      "cell_type": "markdown",
      "metadata": {},
      "source": [
        "--------------------------------------------------------------------------\n",
        "\n",
        "### References\n",
        "\n"
      ]
    }
  ],
  "metadata": {
    "kernelspec": {
      "display_name": "Python 3 (ipykernel)",
      "language": "python",
      "name": "python3"
    },
    "language_info": {
      "codemirror_mode": {
        "name": "ipython",
        "version": 3
      },
      "file_extension": ".py",
      "mimetype": "text/x-python",
      "name": "python",
      "nbconvert_exporter": "python",
      "pygments_lexer": "ipython3",
      "version": "3.11.0"
    }
  },
  "nbformat": 4,
  "nbformat_minor": 4
}
