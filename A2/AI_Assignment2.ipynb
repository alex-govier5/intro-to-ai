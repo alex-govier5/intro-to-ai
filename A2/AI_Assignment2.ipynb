{
 "cells": [
  {
   "cell_type": "markdown",
   "metadata": {},
   "source": [
    "# CSI 4106 Introduction to Artificial Intelligence \n",
    "## Assignment 2: Machine Learning\n",
    "\n",
    "## Report Title: Data Preparation, Model Development and Parameter Optimization for Machine Learning\n",
    "\n",
    "### Identification\n",
    "\n",
    "Name: Alex Govier <br/>\n",
    "Student Number: 300174954"
   ]
  },
  {
   "cell_type": "markdown",
   "metadata": {},
   "source": [
    "#### Import Necessary Libraries"
   ]
  },
  {
   "cell_type": "code",
   "execution_count": null,
   "metadata": {},
   "outputs": [],
   "source": [
    "import pandas as pd\n",
    "import numpy as np\n",
    "import matplotlib.pyplot as plt\n",
    "import seaborn as sns\n",
    "from sklearn.model_selection import train_test_split\n",
    "from sklearn.preprocessing import StandardScaler\n",
    "from sklearn.preprocessing import PowerTransformer\n",
    "from sklearn.preprocessing import OneHotEncoder"
   ]
  },
  {
   "cell_type": "markdown",
   "metadata": {},
   "source": [
    "### Exploratory Analysis\n",
    "\n",
    "#### 1. Loading Dataset and Summary"
   ]
  },
  {
   "cell_type": "code",
   "execution_count": null,
   "metadata": {},
   "outputs": [],
   "source": [
    "# Loading the diabetes dataset from my GitHub\n",
    "diabetes_url = \"https://github.com/alex-govier5/intro-to-ai/raw/master/A1/car_dataset.csv\"\n",
    "diabetes_dataset = pd.read_csv(diabetes_url)"
   ]
  }
 ],
 "metadata": {
  "kernelspec": {
   "display_name": "Python 3",
   "language": "python",
   "name": "python3"
  },
  "language_info": {
   "name": "python",
   "version": "3.11.0"
  }
 },
 "nbformat": 4,
 "nbformat_minor": 2
}
